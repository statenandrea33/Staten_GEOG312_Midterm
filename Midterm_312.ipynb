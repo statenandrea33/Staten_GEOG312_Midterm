{
  "nbformat": 4,
  "nbformat_minor": 0,
  "metadata": {
    "colab": {
      "provenance": [],
      "authorship_tag": "ABX9TyNJ3SunA0iB5dHwcv5XUIGz",
      "include_colab_link": true
    },
    "kernelspec": {
      "name": "python3",
      "display_name": "Python 3"
    },
    "language_info": {
      "name": "python"
    }
  },
  "cells": [
    {
      "cell_type": "markdown",
      "metadata": {
        "id": "view-in-github",
        "colab_type": "text"
      },
      "source": [
        "<a href=\"https://colab.research.google.com/github/statenandrea33/Staten_GEOG312_Midterm/blob/main/Midterm_312.ipynb\" target=\"_parent\"><img src=\"https://colab.research.google.com/assets/colab-badge.svg\" alt=\"Open In Colab\"/></a>"
      ]
    },
    {
      "cell_type": "markdown",
      "source": [
        "Question 1. Please write a python script that provides a printed output for the following\n",
        "arithmetic functions (you can use any numbers):\n",
        "* Multiplication\n",
        "* Division\n",
        "* Addition\n",
        "* Subtraction\n",
        "* Modulo Operator"
      ],
      "metadata": {
        "id": "-gM_rQMGZSwi"
      }
    },
    {
      "cell_type": "code",
      "source": [
        "print(4*3)\n",
        "print(1858/16)\n",
        "print(151531+51651)\n",
        "print(151698-648)\n",
        "print(1568%6)"
      ],
      "metadata": {
        "id": "XIihpWMMZl9D",
        "colab": {
          "base_uri": "https://localhost:8080/"
        },
        "outputId": "9c969242-f267-46ee-8a38-d9f022ed4019"
      },
      "execution_count": null,
      "outputs": [
        {
          "output_type": "stream",
          "name": "stdout",
          "text": [
            "12\n",
            "116.125\n",
            "203182\n",
            "151050\n",
            "2\n"
          ]
        }
      ]
    },
    {
      "cell_type": "markdown",
      "source": [
        "Question 2. Create an array with at least one of each data type. Create an array with only one\n",
        "data type. Compare the data types using a logical expression (equals, greater than or equal, not\n",
        "equal). Please have these values printed out."
      ],
      "metadata": {
        "id": "r2W8-nAyZmuK"
      }
    },
    {
      "cell_type": "code",
      "source": [
        "mixed_data_array = [1, \"apple\", 3.14, True, [1, 2, 3], {\"name\": \"John\"}]\n",
        "\n",
        "int_array = [1, 2, 3, 4, 5]\n",
        "\n",
        "equals = mixed_data_array == int_array\n",
        "not_equals = mixed_data_array != int_array\n",
        "\n",
        "print(\"Equals:\", equals)\n",
        "print(\"Not equals:\", not_equals)"
      ],
      "metadata": {
        "colab": {
          "base_uri": "https://localhost:8080/"
        },
        "id": "mN7j3Za6mJpo",
        "outputId": "6812a535-4c06-4ff1-d7af-506357a3c967"
      },
      "execution_count": null,
      "outputs": [
        {
          "output_type": "stream",
          "name": "stdout",
          "text": [
            "Equals: False\n",
            "Not equals: True\n"
          ]
        }
      ]
    },
    {
      "cell_type": "code",
      "source": [
        "mixed_data_array = [1, \"apple\", 3.14, True, [1, 2, 3], {\"name\": \"John\"}]\n",
        "\n",
        "int_array = [1, 2, 3, 4, 5]\n",
        "\n",
        "mixed_and_int_equal = type(mixed_data_array) == type(int_array)\n",
        "mixed_and_int_not_equal = type(mixed_data_array) != type(int_array)\n",
        "\n",
        "print(\"Mixed and Int Types Equal:\", mixed_and_int_equal)\n",
        "print(\"Mixed and Int Types Not Equal:\", mixed_and_int_not_equal)"
      ],
      "metadata": {
        "id": "64wcQ5QwZrCA",
        "colab": {
          "base_uri": "https://localhost:8080/"
        },
        "outputId": "74d50b0d-8990-41bd-ef5c-64f022d51847"
      },
      "execution_count": null,
      "outputs": [
        {
          "output_type": "stream",
          "name": "stdout",
          "text": [
            "Mixed and Int Types Equal: True\n",
            "Mixed and Int Types Not Equal: False\n"
          ]
        }
      ]
    },
    {
      "cell_type": "markdown",
      "source": [
        "Question 3. Create a list and use a for loop to print out each element of that list."
      ],
      "metadata": {
        "id": "EdLQjdzHZrqs"
      }
    },
    {
      "cell_type": "code",
      "source": [
        "things = ['vols','phone','car','squirrels']\n",
        "\n",
        "for thing in things:\n",
        "  print(thing)"
      ],
      "metadata": {
        "id": "OlL5UYrFZv-F",
        "colab": {
          "base_uri": "https://localhost:8080/"
        },
        "outputId": "0edaac48-1b15-42d7-8928-2b0b064cc6ea"
      },
      "execution_count": null,
      "outputs": [
        {
          "output_type": "stream",
          "name": "stdout",
          "text": [
            "vols\n",
            "phone\n",
            "car\n",
            "squirrels\n"
          ]
        }
      ]
    },
    {
      "cell_type": "markdown",
      "source": [
        "Question 4. Create an array with numbers ranging from 1 to 100. Using a for loop, change the\n",
        "value of each even number in the total range of values to be equal to 0 within the array. Print out\n",
        "the final results as a table."
      ],
      "metadata": {
        "id": "xqmqlxdkZwf2"
      }
    },
    {
      "cell_type": "code",
      "source": [
        "numbers = list(range(1, 101))\n",
        "\n",
        "for i in range(len(numbers)):\n",
        "    if numbers[i] % 2 == 0:\n",
        "        numbers[i] = 0\n",
        "\n",
        "num_columns = 10\n",
        "\n",
        "for i in range(0, len(numbers), num_columns):\n",
        "    row = numbers[i:i+num_columns]\n",
        "    row_str = \"  \".join(map(str, row))\n",
        "    print(row_str)"
      ],
      "metadata": {
        "colab": {
          "base_uri": "https://localhost:8080/"
        },
        "id": "JcaexF8gjbhH",
        "outputId": "6ad7a71e-4256-4e08-fc46-aeab1ca43f85"
      },
      "execution_count": null,
      "outputs": [
        {
          "output_type": "stream",
          "name": "stdout",
          "text": [
            "1  0  3  0  5  0  7  0  9  0\n",
            "11  0  13  0  15  0  17  0  19  0\n",
            "21  0  23  0  25  0  27  0  29  0\n",
            "31  0  33  0  35  0  37  0  39  0\n",
            "41  0  43  0  45  0  47  0  49  0\n",
            "51  0  53  0  55  0  57  0  59  0\n",
            "61  0  63  0  65  0  67  0  69  0\n",
            "71  0  73  0  75  0  77  0  79  0\n",
            "81  0  83  0  85  0  87  0  89  0\n",
            "91  0  93  0  95  0  97  0  99  0\n"
          ]
        }
      ]
    },
    {
      "cell_type": "markdown",
      "source": [
        "Question 5. Create a function that will print out a conversation between two people. Your\n",
        "function should accept two inputs: 1. The name of person A, and the name of Person B.\n",
        "\n",
        "Write your function so that if the name of Person A is less than 5 characters, Person B will reply with the line: **“Wow, your name is so short!” (print the message to the console).**\n",
        "\n",
        "Example:\n",
        "*  Person A: “Hi my name is ____”\n",
        "*  Person B: “Hello, person A name, my name is ____”\n",
        "*  Person B: “Wow, your name is so short!”\n"
      ],
      "metadata": {
        "id": "lzNl526EZ1Rf"
      }
    },
    {
      "cell_type": "code",
      "source": [
        "def conversation():\n",
        "    person_a_name = input(\"Person A, please enter your name: \")\n",
        "    person_b_name = input(\"Person B, please enter your name: \")\n",
        "\n",
        "    if len(person_a_name) < 5:\n",
        "        print(f\"Person A: Hi my name is {person_a_name}.\")\n",
        "        print(f\"Person B: Hello, {person_a_name}, my name is {person_b_name}!\")\n",
        "        print(\"Person B: Wow, your name is so short!\")\n",
        "    else:\n",
        "        print(f\"Person A: Hi my name is {person_a_name}\")\n",
        "        print(f\"Person B: Hello, {person_a_name}, my name is {person_b_name}\")\n",
        "\n",
        "conversation()"
      ],
      "metadata": {
        "id": "nUalFCFMZ-Qy",
        "colab": {
          "base_uri": "https://localhost:8080/"
        },
        "outputId": "034771d0-c3ab-4b66-aa3a-f382859192e2"
      },
      "execution_count": null,
      "outputs": [
        {
          "output_type": "stream",
          "name": "stdout",
          "text": [
            "Person A, please enter your name: Max\n",
            "Person B, please enter your name: Andrea\n",
            "Person A: Hi my name is Max.\n",
            "Person B: Hello, Max, my name is Andrea!\n",
            "Person B: Wow, your name is so short!\n"
          ]
        }
      ]
    },
    {
      "cell_type": "markdown",
      "source": [
        "Question 6. Create two arrays that each have a random range of numbers from 1 to 50. Conduct\n",
        "the following arithmetic functions across the two arrays and print out the results:\n",
        "\n",
        "\n",
        "*   Multiplication\n",
        "*   Division\n",
        "*   Addition\n",
        "*   Subtraction\n",
        "*   Modulo Operator\n",
        "\n"
      ],
      "metadata": {
        "id": "piuOps4CaJ6y"
      }
    },
    {
      "cell_type": "code",
      "source": [
        "array1 = list(range(12, 33))\n",
        "array2 = list(range(28, 37))\n",
        "\n",
        "multiplication_result = [x * y for x, y in zip(array1, array2)]\n",
        "division_result = [x / y if y != 0 else \"Division by zero\" for x, y in zip(array1, array2)]\n",
        "addition_result = [x + y for x, y in zip(array1, array2)]\n",
        "subtraction_result = [x - y for x, y in zip(array1, array2)]\n",
        "modulo_result = [x % y if y != 0 else \"Modulo by zero\" for x, y in zip(array1, array2)]\n",
        "\n",
        "print(\"Array 1:\", array1)\n",
        "print(\"Array 2:\", array2)\n",
        "print(\"Multiplication:\", multiplication_result)\n",
        "print(\"Division:\", division_result)\n",
        "print(\"Addition:\", addition_result)\n",
        "print(\"Subtraction:\", subtraction_result)\n",
        "print(\"Modulo Operator:\", modulo_result)\n"
      ],
      "metadata": {
        "id": "--Fp6gCRaavs",
        "colab": {
          "base_uri": "https://localhost:8080/"
        },
        "outputId": "b0ce0634-c64f-4218-8c22-27616a2177a4"
      },
      "execution_count": null,
      "outputs": [
        {
          "output_type": "stream",
          "name": "stdout",
          "text": [
            "Array 1: [12, 13, 14, 15, 16, 17, 18, 19, 20, 21, 22, 23, 24, 25, 26, 27, 28, 29, 30, 31, 32]\n",
            "Array 2: [28, 29, 30, 31, 32, 33, 34, 35, 36]\n",
            "Multiplication: [336, 377, 420, 465, 512, 561, 612, 665, 720]\n",
            "Division: [0.42857142857142855, 0.4482758620689655, 0.4666666666666667, 0.4838709677419355, 0.5, 0.5151515151515151, 0.5294117647058824, 0.5428571428571428, 0.5555555555555556]\n",
            "Addition: [40, 42, 44, 46, 48, 50, 52, 54, 56]\n",
            "Subtraction: [-16, -16, -16, -16, -16, -16, -16, -16, -16]\n",
            "Modulo Operator: [12, 13, 14, 15, 16, 17, 18, 19, 20]\n"
          ]
        }
      ]
    },
    {
      "cell_type": "markdown",
      "source": [
        "Question 7. Create a dictionary that has key, value pairs for different types of foods. Create a similar function to Question 5’s function that prints out the value of a key based on input from a user.\n",
        "\n",
        "Example:\n",
        "* \"Please type your favorite food:\"\n",
        "* User types: Pizza\n",
        "* Code response: \"Ah, Pizza, we have pepperoni.\"\n",
        "* Where pepperoni is the value of the key."
      ],
      "metadata": {
        "id": "M2mphVqdabJO"
      }
    },
    {
      "cell_type": "code",
      "source": [
        "foods_dict = {\n",
        "    \"Pizza\": \"pepperoni\",\n",
        "    \"Burger\": \"cheeseburger\",\n",
        "    \"Sushi\": \"california roll\",\n",
        "    \"Pasta\": \"spaghetti\",\n",
        "    \"Taco\": \"chicken\",\n",
        "}\n",
        "\n",
        "def get_favorite_food():\n",
        "    favorite_food = input(\"Please type your favorite food: \")\n",
        "\n",
        "    if favorite_food in foods_dict:\n",
        "        value = foods_dict[favorite_food]\n",
        "        print(f\"Ah, {favorite_food}, we have {value}.\")\n",
        "    else:\n",
        "        print(\"Sorry, we don't have information for that food.\")\n",
        "\n",
        "get_favorite_food()"
      ],
      "metadata": {
        "id": "fM7ng_dpbNOD",
        "colab": {
          "base_uri": "https://localhost:8080/"
        },
        "outputId": "12b9010e-6a20-4877-e006-d7512057f27d"
      },
      "execution_count": null,
      "outputs": [
        {
          "output_type": "stream",
          "name": "stdout",
          "text": [
            "Please type your favorite food: Pizza\n",
            "Ah, Pizza, we have pepperoni.\n"
          ]
        }
      ]
    },
    {
      "cell_type": "markdown",
      "source": [
        "Question 8. Create a while loop that will continuously print a message until a specified value is\n",
        "reached.\n"
      ],
      "metadata": {
        "id": "gN6vsqcIbN8m"
      }
    },
    {
      "cell_type": "code",
      "source": [
        "target_value = 7\n",
        "\n",
        "current_value = 0\n",
        "while current_value < target_value:\n",
        "  print(\"Almost there!\")\n",
        "  current_value += 1\n",
        "print('The value has been reached.')"
      ],
      "metadata": {
        "id": "zYhdu_ArbQsI",
        "colab": {
          "base_uri": "https://localhost:8080/"
        },
        "outputId": "bd55480b-3497-432e-fbf9-bee44357e66c"
      },
      "execution_count": null,
      "outputs": [
        {
          "output_type": "stream",
          "name": "stdout",
          "text": [
            "Almost there!\n",
            "Almost there!\n",
            "Almost there!\n",
            "Almost there!\n",
            "Almost there!\n",
            "Almost there!\n",
            "Almost there!\n",
            "The value has been reached.\n"
          ]
        }
      ]
    },
    {
      "cell_type": "markdown",
      "source": [
        "Question 8b. Create a while loop that runs a calculation on an array of numbers until the last\n",
        "value within the array has been run.\n",
        "The array can contain any numerical values, and the calculation can be something as simple as\n",
        "multiplying the values by pi or something more complex."
      ],
      "metadata": {
        "id": "DKH7hw9YbRBz"
      }
    },
    {
      "cell_type": "code",
      "source": [
        "numbers = [1, 2, 3, 4, 5, 6, 7, 8, 9, 10]\n",
        "\n",
        "index = 0\n",
        "\n",
        "while index < len(numbers):\n",
        "    result = numbers[index] * 3.14\n",
        "\n",
        "    print(f\"Original value: {numbers[index]}, Calculated value: {result}\")\n",
        "\n",
        "    index += 1\n"
      ],
      "metadata": {
        "id": "qXdoxN7-bVJ-",
        "colab": {
          "base_uri": "https://localhost:8080/"
        },
        "outputId": "079c43db-7baa-43ff-f208-e9dc248c2687"
      },
      "execution_count": null,
      "outputs": [
        {
          "output_type": "stream",
          "name": "stdout",
          "text": [
            "Original value: 1, Calculated value: 3.14\n",
            "Original value: 2, Calculated value: 6.28\n",
            "Original value: 3, Calculated value: 9.42\n",
            "Original value: 4, Calculated value: 12.56\n",
            "Original value: 5, Calculated value: 15.700000000000001\n",
            "Original value: 6, Calculated value: 18.84\n",
            "Original value: 7, Calculated value: 21.98\n",
            "Original value: 8, Calculated value: 25.12\n",
            "Original value: 9, Calculated value: 28.26\n",
            "Original value: 10, Calculated value: 31.400000000000002\n"
          ]
        }
      ]
    },
    {
      "cell_type": "markdown",
      "source": [
        "Question 9. Please explain the difference between a list, an array, and a dictionary and when you\n",
        "would use each one. (Type your answer as a comment or within a text cell).\n"
      ],
      "metadata": {
        "id": "j1V6TxBMbVjS"
      }
    },
    {
      "cell_type": "code",
      "source": [
        "## List:\n",
        "# - A list is a collection of items in a certain order.\n",
        "# - You would use a list when you are working with data that has different data types.\n",
        "## Array:\n",
        "# - An array is a data structure used to store a collection of elements of the same data type.\n",
        "# - Arrays are used when working with large datasets.\n",
        "## Dictionary:\n",
        "# - A dictionary is a collection of key-value pairs.\n",
        "# - They are used for data that has a relationship between keys and values."
      ],
      "metadata": {
        "id": "MR0os1k0bcU1"
      },
      "execution_count": null,
      "outputs": []
    },
    {
      "cell_type": "markdown",
      "source": [
        "Question 10. Please explain the difference between logical operators and comparison operators\n",
        "and describe one use case for when they would be used (do not use the description from the\n",
        "lecture/lab materials - think through it):"
      ],
      "metadata": {
        "id": "_1QZSyulbczc"
      }
    },
    {
      "cell_type": "code",
      "source": [
        "# - logical operators are used to execute portions of code while\n",
        "# - comparison operators are used to determine if the logical\n",
        "# - operators are executed.\n",
        "#\n",
        "# If\n",
        "# - Useful to check the state of a variable such as checking if an\n",
        "# - array is empty or not.\n",
        "# Elif\n",
        "# - when you wish to use an if statement that will only be execute\n",
        "# - if previous if statments wern't entered.\n",
        "# Else\n",
        "# - Define what to do when no previous if sttements were entered\n",
        "\n",
        "# ==\n",
        "# - useful to determine if something is equel such as checking\n",
        "# - a list of names against an input\n",
        "# !=\n",
        "# - useful in situations where you are trying to excludean action\n",
        "# - based off one specific value such as only print a list if\n",
        "# - length isnt zero.\n",
        "# & (and)\n",
        "# - useful when you are seeking to only execute something only\n",
        "# - when two statements are true such as only printing something\n",
        "# - if it is less than somethoing but more than something else\n",
        "# | (or)\n",
        "# - useful when you are seeking to execute something\n",
        "# - when one or both statements are true such as\n",
        "# - if it is less than somethoing but more than something else"
      ],
      "metadata": {
        "id": "P7-4fMFtbnhH"
      },
      "execution_count": 1,
      "outputs": []
    },
    {
      "cell_type": "code",
      "source": [],
      "metadata": {
        "id": "9fnrYIY_nFuu"
      },
      "execution_count": null,
      "outputs": []
    }
  ]
}